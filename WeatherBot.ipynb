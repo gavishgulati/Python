{
 "cells": [
  {
   "cell_type": "markdown",
   "metadata": {},
   "source": [
    "The next cell will authenticate your bot based on your keys and tokens. See the [Tweepy tutorial](https://github.com/comp-journalism/UMD-J479V-J779V-Spring2016/blob/master/Weekly/Week_5/Tweepy-skeleton.ipynb) for more details. "
   ]
  },
  {
   "cell_type": "markdown",
   "metadata": {},
   "source": [
    "# Bot Skeleton"
   ]
  },
  {
   "cell_type": "code",
   "execution_count": null,
   "metadata": {
    "collapsed": false
   },
   "outputs": [
    {
     "name": "stdout",
     "output_type": "stream",
     "text": [
      "Terps_Weather\n"
     ]
    }
   ],
   "source": [
    "import tweepy\n",
    "import urllib\n",
    "import time\n",
    "#Setup and authenticate Tweepy\n",
    "CONSUMER_KEY = \"Your_key\"\n",
    "CONSUMER_SECRET = \"Your_Secret\"\n",
    "ACCESS_TOKEN = \"TOKEN\"\n",
    "ACCESS_TOKEN_SECRET = \"Secret\"\n",
    "\n",
    "auth = tweepy.OAuthHandler(CONSUMER_KEY, CONSUMER_SECRET)\n",
    "auth.set_access_token(ACCESS_TOKEN, ACCESS_TOKEN_SECRET)\n",
    "api = tweepy.API(auth)\n",
    "\n",
    "me = api.me()\n",
    "print me.screen_name\n",
    "\n"
   ]
  },
  {
   "cell_type": "markdown",
   "metadata": {},
   "source": [
    "The next cell has a number of essential functions that allow this bot to tweet weather updates."
   ]
  },
  {
   "cell_type": "code",
   "execution_count": null,
   "metadata": {
    "collapsed": false
   },
   "outputs": [],
   "source": [
    "import requests\n",
    "import json\n",
    "\n",
    "while True:\n",
    "    j = 0; \n",
    "    while j < 29:\n",
    "        cities = ['Aberdeen','Annapolis', 'Baltimore', 'Bowie', 'Brunswick', 'Cambridge', 'College Park', 'Crisfield', 'Cumberland',\n",
    "                  'District Heights', 'Frederick', 'Frostbug', 'Fruitland', 'Gaithersburg', 'Glenarden', 'Greenbelt', 'Hagerstown',\n",
    "                  'Havre De Grace','Hyattsville', 'Laurel', 'Mount Rainier', 'New Carrollton', 'Pocomoke City', 'Rockville',\n",
    "                  'Salisbury', 'Seat Pleasant', 'Takoma Park','Taneytown', 'Westminster']\n",
    "        # Making a GET request to weather underground API. This request is made for forecast feature of this API.\n",
    "        # This returns a JSON object with forecast for the next 3 days(including today)\n",
    "\n",
    "        url = 'http://api.wunderground.com/api/8f22a9ece2e9226f/geolookup/forecast/q/MD/' + cities[j] + '.json' \n",
    "        try:\n",
    "            f = requests.get(url)\n",
    "\n",
    "        except Exception as e:\n",
    "            print e\n",
    "            pass\n",
    "\n",
    "        # parsing the data into readable JSON\n",
    "        parsed_json = f.json()\n",
    "        \n",
    "        # Checking if there was any error key in response. If there is, displaying the error description and exiting the script. \n",
    "        if 'error' in parsed_json['response']:\n",
    "            print parsed_json['response']['error']['description']\n",
    "            exit()\n",
    "\n",
    "        # Defining a function where it reads & stores the text for tweet from forecast key present in JSON object. It also reads the day\n",
    "        # from the JSON object. The JSON object contains weather forecast for day and night in each response object.\n",
    "        # Calling checkChar function from this function\n",
    "        def forecast(i):\n",
    "            if i == 0:\n",
    "                first_day = parsed_json['forecast']['txt_forecast']['forecastday'][i]['title']\n",
    "                tweet = \"Today\" + '(' + first_day + ')\\n' + parsed_json['forecast']['txt_forecast']['forecastday'][i]['fcttext']\n",
    "\n",
    "            if i == 1:\n",
    "                first_day_night = parsed_json['forecast']['txt_forecast']['forecastday'][i]['title']\n",
    "                tweet = \"Tonight\" + '(' + first_day_night + ')\\n' + parsed_json['forecast']['txt_forecast']['forecastday'][i]['fcttext']\n",
    "                                \n",
    "            checkChar(tweet)\n",
    "            return\n",
    "        # This function splits the tweet in two parts. Twitter has a char limit of 140 however the limit has been set to 100 because \n",
    "        # it also counts image link in char limit(23) and the algorithm also appends city name. Returns the split variables as an output\n",
    "        def splitChar(value):\n",
    "            split1 = value[:100]\n",
    "            split2 = value[100:200]\n",
    "            return split1,split2\n",
    "        \n",
    "        # Checks for the length of tweet text parsed from forecast(). Modifies the text of these two tweets by adding 1/2 and 2/2 showing\n",
    "        # continuation of tweet. Also tweets an appropriate image according to the current weather\n",
    "        def checkChar(value):\n",
    "            # Setting the path as per local machine. Change this path as per your system's file location.\n",
    "            path = 'C:/Users/KrutikaSatish/Desktop/images/'\n",
    "            if len(value) > 100:\n",
    "                var1,var2 = splitChar(value)\n",
    "                var1 = cities[j] + ' ' + var1 + '..1/2'\n",
    "                var2 = var2 + '..2/2'\n",
    "                # Fetching the name of the appropriate image from the response The images were downloaded from Weather Underground API.\n",
    "                # from here http://www.wunderground.com/weather/api/d/docs?d=resources/icon-sets&MR=1.\n",
    "                img = path + parsed_json['forecast']['txt_forecast']['forecastday'][i]['icon'] + '.gif'\n",
    "                #Updating the tweet with media content. Tweeting the image only once in the second part of the tweet.\n",
    "                api.update_status(var1)\n",
    "                api.update_with_media(img, status=var2)\n",
    "                \n",
    "            else:\n",
    "                # Doing the same logic when the tweet is below the char limit. In this case just tweeting the city name and \n",
    "                # posting tweet with appropriate media\n",
    "                img = path + parsed_json['forecast']['txt_forecast']['forecastday'][i]['icon'] + '.gif'\n",
    "                value = cities[j] + ' ' + value\n",
    "                api.update_with_media(img, status=value)\n",
    "                \n",
    "\n",
    "        # Logic for tweeting forecast for day and night. Calling forecast() once for each\n",
    "        i = 0  \n",
    "        while i < 2:\n",
    "            forecast(i)\n",
    "            i += 1\n",
    "        # Incrementing city array index and putting the script to sleep for 2979 seconds. Timeline has been kept as 2979 seconds because\n",
    "        # twitter doesnt allow posting same tweet(I am including 29 cities and we have 24 hours in a day, hence 3600x24/29 \n",
    "        # (no of seconds in a day/ no of cities)).\n",
    "        # Therefore, this script will run for each city once a day. Once the day is over,\n",
    "        # the weather will change and so will the text of the tweet.\n",
    "        j += 1\n",
    "        time.sleep(2979)"
   ]
  }
 ],
 "metadata": {
  "kernelspec": {
   "display_name": "Python 2",
   "language": "python",
   "name": "python2"
  },
  "language_info": {
   "codemirror_mode": {
    "name": "ipython",
    "version": 2
   },
   "file_extension": ".py",
   "mimetype": "text/x-python",
   "name": "python",
   "nbconvert_exporter": "python",
   "pygments_lexer": "ipython2",
   "version": "2.7.11"
  }
 },
 "nbformat": 4,
 "nbformat_minor": 0
}
